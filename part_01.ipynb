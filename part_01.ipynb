{
 "cells": [
  {
   "cell_type": "code",
   "execution_count": null,
   "id": "77de02e6",
   "metadata": {},
   "outputs": [],
   "source": [
    "import requests\n",
    "import boto3\n",
    "from botocore.exceptions import NoCredentialsError\n",
    "import os\n",
    "\n",
    "s3_bucket = 'rearc-data-quest-s3'\n",
    "s3_prefix = 'bls-data/'\n",
    "bls_url = 'https://download.bls.gov/pub/time.series/pr/pr.data.0.Current'\n",
    "file_name = bls_url.split(\"/\")[-1]\n",
    "tmp_file_path = f'/tmp/{file_name}'\n",
    "\n",
    "headers = {\n",
    "    \"User-Agent\": \"Ruchita Patil (patilruchita0792@gmail.com)\"\n",
    "}\n",
    "\n",
    "def download_file(url, output_path):\n",
    "    response = requests.get(url, headers=headers)\n",
    "    if response.status_code == 200:\n",
    "        with open(output_path, 'wb') as f:\n",
    "            f.write(response.content)\n",
    "        print(f\"Downloaded: {output_path}\")\n",
    "        return True\n",
    "    else:\n",
    "        print(f\"Failed to download: {response.status_code}\")\n",
    "        return False\n",
    "\n",
    "def upload_to_s3(local_path, bucket, s3_key):\n",
    "    s3 = boto3.client('s3')\n",
    "    try:\n",
    "        s3.upload_file(local_path, bucket, s3_key)\n",
    "        print(f\"Uploaded to S3: s3://{bucket}/{s3_key}\")\n",
    "    except NoCredentialsError:\n",
    "        print(\"AWS credentials not found.\")\n",
    "    except Exception as e:\n",
    "        print(\"Upload error:\", str(e))\n",
    "\n",
    "def lambda_handler(event, context):\n",
    "    if download_file(bls_url, tmp_file_path):\n",
    "        upload_to_s3(tmp_file_path, s3_bucket, s3_prefix + file_name)\n",
    "        return {\n",
    "            'statusCode': 200,\n",
    "            'body': f'Successfully uploaded {file_name} to s3://{s3_bucket}/{s3_prefix + file_name}'\n",
    "        }\n",
    "    else:\n",
    "        return {\n",
    "            'statusCode': 500,\n",
    "            'body': 'Failed to download the file.'\n",
    "        }\n"
   ]
  }
 ],
 "metadata": {
  "kernelspec": {
   "display_name": "Python 3 (ipykernel)",
   "language": "python",
   "name": "python3"
  },
  "language_info": {
   "codemirror_mode": {
    "name": "ipython",
    "version": 3
   },
   "file_extension": ".py",
   "mimetype": "text/x-python",
   "name": "python",
   "nbconvert_exporter": "python",
   "pygments_lexer": "ipython3",
   "version": "3.9.12"
  }
 },
 "nbformat": 4,
 "nbformat_minor": 5
}
